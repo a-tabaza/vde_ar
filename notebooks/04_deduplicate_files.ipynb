{
 "cells": [
  {
   "cell_type": "code",
   "execution_count": 1,
   "metadata": {},
   "outputs": [],
   "source": [
    "import os\n",
    "import hashlib as hash\n",
    "from glob import glob\n",
    "from collections import defaultdict\n",
    "from tqdm import tqdm"
   ]
  },
  {
   "cell_type": "code",
   "execution_count": 2,
   "metadata": {},
   "outputs": [],
   "source": [
    "pdf_directory = glob(\"../data/downloaded_pdfs/*.pdf\")"
   ]
  },
  {
   "cell_type": "code",
   "execution_count": 3,
   "metadata": {},
   "outputs": [],
   "source": [
    "def get_file_hash(file_path: str) -> str:\n",
    "    BLOCKSIZE = 65536 * 65536\n",
    "    h = hash.md5()\n",
    "\n",
    "    with open(file_path, \"rb\") as f:\n",
    "        file_buffer = f.read(BLOCKSIZE)\n",
    "        while file_buffer:\n",
    "            h.update(file_buffer)\n",
    "            file_buffer = f.read(BLOCKSIZE)\n",
    "\n",
    "    return h.hexdigest()"
   ]
  },
  {
   "cell_type": "code",
   "execution_count": 4,
   "metadata": {},
   "outputs": [
    {
     "name": "stderr",
     "output_type": "stream",
     "text": [
      "100%|██████████| 1500/1500 [00:12<00:00, 122.02it/s]\n"
     ]
    }
   ],
   "source": [
    "hashes = [{\"path\": path, \"hash\": get_file_hash(path)} for path in tqdm(pdf_directory)]"
   ]
  },
  {
   "cell_type": "code",
   "execution_count": 6,
   "metadata": {},
   "outputs": [],
   "source": [
    "hash_to_paths = defaultdict(list)\n",
    "for item in hashes:\n",
    "    hash_to_paths[item['hash']].append(item['path'])"
   ]
  },
  {
   "cell_type": "code",
   "execution_count": 7,
   "metadata": {},
   "outputs": [],
   "source": [
    "duplicates = {hash: paths for hash, paths in hash_to_paths.items() if len(paths) > 1}"
   ]
  },
  {
   "cell_type": "code",
   "execution_count": 8,
   "metadata": {},
   "outputs": [
    {
     "data": {
      "text/plain": [
       "{'8857b7d1c9c68d60ae14a1ca627fc41f': ['../data/downloaded_pdfs/hdr2020arpdf AR_8857b7d1.pdf',\n",
       "  '../data/downloaded_pdfs/hdr2020ar_8857b7d1.pdf']}"
      ]
     },
     "execution_count": 8,
     "metadata": {},
     "output_type": "execute_result"
    }
   ],
   "source": [
    "duplicates"
   ]
  },
  {
   "cell_type": "code",
   "execution_count": 9,
   "metadata": {},
   "outputs": [],
   "source": [
    "if os.path.exists(list(duplicates.values())[0][0]):\n",
    "    os.remove(list(duplicates.values())[0][0])"
   ]
  },
  {
   "cell_type": "code",
   "execution_count": 10,
   "metadata": {},
   "outputs": [
    {
     "data": {
      "text/plain": [
       "False"
      ]
     },
     "execution_count": 10,
     "metadata": {},
     "output_type": "execute_result"
    }
   ],
   "source": [
    "os.path.exists(list(duplicates.values())[0][0])"
   ]
  },
  {
   "cell_type": "code",
   "execution_count": null,
   "metadata": {},
   "outputs": [],
   "source": []
  }
 ],
 "metadata": {
  "kernelspec": {
   "display_name": ".venv",
   "language": "python",
   "name": "python3"
  },
  "language_info": {
   "codemirror_mode": {
    "name": "ipython",
    "version": 3
   },
   "file_extension": ".py",
   "mimetype": "text/x-python",
   "name": "python",
   "nbconvert_exporter": "python",
   "pygments_lexer": "ipython3",
   "version": "3.12.8"
  }
 },
 "nbformat": 4,
 "nbformat_minor": 2
}
