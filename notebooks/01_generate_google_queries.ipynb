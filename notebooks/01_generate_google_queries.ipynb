{
 "cells": [
  {
   "cell_type": "code",
   "execution_count": 10,
   "metadata": {},
   "outputs": [],
   "source": [
    "import json"
   ]
  },
  {
   "cell_type": "code",
   "execution_count": 7,
   "metadata": {},
   "outputs": [],
   "source": [
    "seed_topics = [line.replace(\"\\n\", \"\").strip() for line in open(\"../data/seed_topics.txt\", \"r\").readlines()]\n",
    "google_query_base = \"filetype:pdf lang:ar {topic}\""
   ]
  },
  {
   "cell_type": "code",
   "execution_count": 8,
   "metadata": {},
   "outputs": [],
   "source": [
    "queries = [google_query_base.format(topic=topic) for topic in seed_topics]"
   ]
  },
  {
   "cell_type": "code",
   "execution_count": 9,
   "metadata": {},
   "outputs": [
    {
     "data": {
      "text/plain": [
       "['filetype:pdf lang:ar التاريخ البشري',\n",
       " 'filetype:pdf lang:ar عصر ما قبل التاريخ',\n",
       " 'filetype:pdf lang:ar التاريخ القديم',\n",
       " 'filetype:pdf lang:ar الحقبة الحديثة المبكرة',\n",
       " 'filetype:pdf lang:ar العصر الحديث',\n",
       " 'filetype:pdf lang:ar تاريخ',\n",
       " 'filetype:pdf lang:ar تاريخ العلوم',\n",
       " 'filetype:pdf lang:ar حضارة',\n",
       " 'filetype:pdf lang:ar جغرافيا',\n",
       " 'filetype:pdf lang:ar مدينة',\n",
       " 'filetype:pdf lang:ar بلد',\n",
       " 'filetype:pdf lang:ar بر',\n",
       " 'filetype:pdf lang:ar بحر',\n",
       " 'filetype:pdf lang:ar إفريقيا',\n",
       " 'filetype:pdf lang:ar آسيا',\n",
       " 'filetype:pdf lang:ar أوروبا',\n",
       " 'filetype:pdf lang:ar أمريكا الشمالية',\n",
       " 'filetype:pdf lang:ar أمريكا الجنوبية',\n",
       " 'filetype:pdf lang:ar الفنون',\n",
       " 'filetype:pdf lang:ar عمارة',\n",
       " 'filetype:pdf lang:ar أدب',\n",
       " 'filetype:pdf lang:ar موسيقى',\n",
       " 'filetype:pdf lang:ar فنون تعبيرية',\n",
       " 'filetype:pdf lang:ar فنون مرئية',\n",
       " 'filetype:pdf lang:ar معرفة',\n",
       " 'filetype:pdf lang:ar فلسفة',\n",
       " 'filetype:pdf lang:ar دين',\n",
       " 'filetype:pdf lang:ar إله',\n",
       " 'filetype:pdf lang:ar أخلاقيات',\n",
       " 'filetype:pdf lang:ar منطق',\n",
       " 'filetype:pdf lang:ar ملابس',\n",
       " 'filetype:pdf lang:ar ترفيه',\n",
       " 'filetype:pdf lang:ar رياضة',\n",
       " 'filetype:pdf lang:ar أسرة',\n",
       " 'filetype:pdf lang:ar طعام',\n",
       " 'filetype:pdf lang:ar بيت',\n",
       " 'filetype:pdf lang:ar جنسانية',\n",
       " 'filetype:pdf lang:ar اتصال',\n",
       " 'filetype:pdf lang:ar لغة',\n",
       " 'filetype:pdf lang:ar إعلام',\n",
       " 'filetype:pdf lang:ar كتابة',\n",
       " 'filetype:pdf lang:ar ثقافة',\n",
       " 'filetype:pdf lang:ar تراث شعبي',\n",
       " 'filetype:pdf lang:ar اقتصاد',\n",
       " 'filetype:pdf lang:ar زراعة',\n",
       " 'filetype:pdf lang:ar عمل تجاري',\n",
       " 'filetype:pdf lang:ar تصنيع',\n",
       " 'filetype:pdf lang:ar تجارة',\n",
       " 'filetype:pdf lang:ar إثنية',\n",
       " 'filetype:pdf lang:ar علم النفس',\n",
       " 'filetype:pdf lang:ar شعور',\n",
       " 'filetype:pdf lang:ar عقل',\n",
       " 'filetype:pdf lang:ar مجتمع',\n",
       " 'filetype:pdf lang:ar تعليم',\n",
       " 'filetype:pdf lang:ar حكومة',\n",
       " 'filetype:pdf lang:ar قانون',\n",
       " 'filetype:pdf lang:ar سياسة',\n",
       " 'filetype:pdf lang:ar حرب',\n",
       " 'filetype:pdf lang:ar علم',\n",
       " 'filetype:pdf lang:ar علم الفلك',\n",
       " 'filetype:pdf lang:ar المجموعة الشمسية',\n",
       " 'filetype:pdf lang:ar الشمس',\n",
       " 'filetype:pdf lang:ar الأرض',\n",
       " 'filetype:pdf lang:ar القمر',\n",
       " 'filetype:pdf lang:ar فضاء كوني',\n",
       " 'filetype:pdf lang:ar علم الأحياء',\n",
       " 'filetype:pdf lang:ar خلية',\n",
       " 'filetype:pdf lang:ar موت',\n",
       " 'filetype:pdf lang:ar علم البيئة',\n",
       " 'filetype:pdf lang:ar التطور',\n",
       " 'filetype:pdf lang:ar حياة',\n",
       " 'filetype:pdf lang:ar حيوان',\n",
       " 'filetype:pdf lang:ar إنسان',\n",
       " 'filetype:pdf lang:ar نبات',\n",
       " 'filetype:pdf lang:ar كيمياء',\n",
       " 'filetype:pdf lang:ar عنصر كيميائي',\n",
       " 'filetype:pdf lang:ar ماء',\n",
       " 'filetype:pdf lang:ar مناخ',\n",
       " 'filetype:pdf lang:ar جيولوجيا',\n",
       " 'filetype:pdf lang:ar طب',\n",
       " 'filetype:pdf lang:ar مرض',\n",
       " 'filetype:pdf lang:ar فيزياء',\n",
       " 'filetype:pdf lang:ar ذرة',\n",
       " 'filetype:pdf lang:ar طاقة',\n",
       " 'filetype:pdf lang:ar زمن',\n",
       " 'filetype:pdf lang:ar التكنولوجيا',\n",
       " 'filetype:pdf lang:ar كتاب',\n",
       " 'filetype:pdf lang:ar حاسوب',\n",
       " 'filetype:pdf lang:ar كهرباء',\n",
       " 'filetype:pdf lang:ar هندسة',\n",
       " 'filetype:pdf lang:ar نار',\n",
       " 'filetype:pdf lang:ar أداة',\n",
       " 'filetype:pdf lang:ar نقل',\n",
       " 'filetype:pdf lang:ar رياضيات',\n",
       " 'filetype:pdf lang:ar حسابيات',\n",
       " 'filetype:pdf lang:ar هندسة رياضية',\n",
       " 'filetype:pdf lang:ar عدد',\n",
       " 'filetype:pdf lang:ar إحصاء']"
      ]
     },
     "execution_count": 9,
     "metadata": {},
     "output_type": "execute_result"
    }
   ],
   "source": [
    "queries"
   ]
  },
  {
   "cell_type": "code",
   "execution_count": 12,
   "metadata": {},
   "outputs": [],
   "source": [
    "json.dump(queries, open(\"../data/google_queries.json\", \"w\"), ensure_ascii=False, indent = 4)"
   ]
  },
  {
   "cell_type": "code",
   "execution_count": 13,
   "metadata": {},
   "outputs": [],
   "source": [
    "json.dump(seed_topics, open(\"../data/seed_topics.json\", \"w\"), ensure_ascii=False, indent = 4)"
   ]
  }
 ],
 "metadata": {
  "kernelspec": {
   "display_name": ".venv",
   "language": "python",
   "name": "python3"
  },
  "language_info": {
   "codemirror_mode": {
    "name": "ipython",
    "version": 3
   },
   "file_extension": ".py",
   "mimetype": "text/x-python",
   "name": "python",
   "nbconvert_exporter": "python",
   "pygments_lexer": "ipython3",
   "version": "3.12.8"
  }
 },
 "nbformat": 4,
 "nbformat_minor": 2
}
